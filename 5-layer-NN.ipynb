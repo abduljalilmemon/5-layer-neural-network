{
  "nbformat": 4,
  "nbformat_minor": 0,
  "metadata": {
    "kernelspec": {
      "name": "python3",
      "display_name": "Python 3",
      "language": "python"
    },
    "language_info": {
      "name": "python",
      "version": "3.7.9",
      "mimetype": "text/x-python",
      "codemirror_mode": {
        "name": "ipython",
        "version": 3
      },
      "pygments_lexer": "ipython3",
      "nbconvert_exporter": "python",
      "file_extension": ".py"
    },
    "colab": {
      "name": "i170160.ipynb",
      "provenance": []
    }
  },
  "cells": [
    {
      "cell_type": "code",
      "metadata": {
        "_uuid": "8f2839f25d086af736a60e9eeb907d3b93b6e0e5",
        "_cell_guid": "b1076dfc-b9ad-4769-8c92-a6c4dae69d19",
        "trusted": true,
        "id": "V0sxEmgAslqU"
      },
      "source": [
        "import numpy as np # linear algebra\n",
        "import pandas as pd # data processing, CSV file I/O (e.g. pd.read_csv)\n",
        "import os\n",
        "import random\n",
        "import cv2\n",
        "from sklearn.model_selection import train_test_split\n",
        "import matplotlib.pyplot as plt"
      ],
      "execution_count": null,
      "outputs": []
    },
    {
      "cell_type": "code",
      "metadata": {
        "trusted": true,
        "id": "0fHGMpT9slqh"
      },
      "source": [
        "train_path = \"../input/cat-and-dog/training_set/training_set/\"\n",
        "train_path_animal = [train_path + i + \"/\" for i in os.listdir(train_path)]"
      ],
      "execution_count": null,
      "outputs": []
    },
    {
      "cell_type": "code",
      "metadata": {
        "trusted": true,
        "id": "N3y8gzp1slqi"
      },
      "source": [
        "def read_image(image_path):\n",
        "    img = cv2.imread(image_path)\n",
        "    return cv2.resize(img, (64, 64))"
      ],
      "execution_count": null,
      "outputs": []
    },
    {
      "cell_type": "code",
      "metadata": {
        "trusted": true,
        "id": "CiAXUIJ0slqj"
      },
      "source": [
        "x, y, label = [], [], 0\n",
        "transform=transforms.Compose([transforms.Resize((64,64))])\n",
        "for i in train_path_animal:\n",
        "    for j in os.listdir(i):\n",
        "        if random.random() > 0.05:continue\n",
        "        if j[-1] == 'e':continue\n",
        "        img = np.array(read_image(i+j))\n",
        "        x.append(img)\n",
        "        y.append(label)\n",
        "    label += 1\n",
        "X_train, Y_train, X_test, Y_test = train_test_split(x,y,test_size=0.2)"
      ],
      "execution_count": null,
      "outputs": []
    },
    {
      "cell_type": "code",
      "metadata": {
        "trusted": true,
        "id": "4R_WzpEoslqj",
        "outputId": "20912961-417e-44eb-f277-eaa0e82c0499"
      },
      "source": [
        "x_train, x_test, y_train, y_test = np.array(X_train), np.array(Y_train), np.array([X_test]), np.array([Y_test])\n",
        "x_train.shape, x_test.shape,y_train.shape, y_test.shape"
      ],
      "execution_count": null,
      "outputs": [
        {
          "output_type": "execute_result",
          "data": {
            "text/plain": [
              "((313, 64, 64, 3), (79, 64, 64, 3), (1, 313), (1, 79))"
            ]
          },
          "metadata": {
            "tags": []
          },
          "execution_count": 294
        }
      ]
    },
    {
      "cell_type": "code",
      "metadata": {
        "trusted": true,
        "id": "0u90IJG_slqk"
      },
      "source": [
        "def sigmoid(Z):\n",
        "    return 1/(1+np.exp(-Z)), Z\n",
        "\n",
        "def relu(Z):\n",
        "    A = np.maximum(0,Z)\n",
        "    cache = Z \n",
        "    return np.maximum(0,Z), Z\n",
        "\n",
        "def relu_backward(dA, cache):\n",
        "    dZ = np.array(dA, copy=True)\n",
        "    dZ[cache <= 0] = 0\n",
        "    return dZ\n",
        "\n",
        "def sigmoid_backward(dA, cache):\n",
        "    s = 1/(1+np.exp(-cache))\n",
        "    dZ = dA * s * (1-s)\n",
        "    return dZ"
      ],
      "execution_count": null,
      "outputs": []
    },
    {
      "cell_type": "code",
      "metadata": {
        "trusted": true,
        "id": "D9DBkkJTslql",
        "outputId": "f37c9e7b-106a-407a-fb69-7419c1b6abf5"
      },
      "source": [
        "# Reshape the training and test examples \n",
        "train_x_flatten = x_train.reshape(x_train.shape[0], -1).T   # The \"-1\" makes reshape flatten the remaining dimensions\n",
        "test_x_flatten = x_test.reshape(x_test.shape[0], -1).T\n",
        "\n",
        "# Standardize data to have feature values between 0 and 1.\n",
        "x_train = train_x_flatten/255.\n",
        "x_test = test_x_flatten/255.\n",
        "\n",
        "print (\"train_x's shape: \" + str(x_train.shape))\n",
        "print (\"test_x's shape: \" + str(x_test.shape))"
      ],
      "execution_count": null,
      "outputs": [
        {
          "output_type": "stream",
          "text": [
            "train_x's shape: (12288, 313)\n",
            "test_x's shape: (12288, 79)\n"
          ],
          "name": "stdout"
        }
      ]
    },
    {
      "cell_type": "code",
      "metadata": {
        "trusted": true,
        "id": "3ih0kpn_slql"
      },
      "source": [
        "def linear_forward(A, W, b):\n",
        "    Z = np.dot(W,A)+b\n",
        "    cache = (A, W, b)\n",
        "    return Z, cache\n",
        "\n",
        "def linear_backward(dZ, cache):\n",
        "    A_prev, W, b = cache\n",
        "    m = A_prev.shape[1]\n",
        "    dW = (1/m)*np.dot(dZ,A_prev.T)\n",
        "    db = (1/m)*np.sum(dZ,axis=1,keepdims=True)\n",
        "    dA_prev = np.dot(W.T,dZ)\n",
        "    return dA_prev, dW, db\n",
        "\n",
        "def linear_activation_forward(A_prev, W, b, activation):\n",
        "    if activation == \"sigmoid\":\n",
        "        Z, linear_cache = linear_forward(A_prev,W,b)\n",
        "        A, activation_cache = sigmoid(Z)\n",
        "    elif activation == \"relu\":\n",
        "        Z, linear_cache = linear_forward(A_prev,W,b)\n",
        "        A, activation_cache = relu(Z)\n",
        "    cache = (linear_cache, activation_cache)\n",
        "    return A, cache\n",
        "\n",
        "def linear_activation_backward(dA, cache, activation):\n",
        "    linear_cache, activation_cache = cache\n",
        "    if activation == \"relu\":\n",
        "        dZ = relu_backward(dA,activation_cache)\n",
        "        dA_prev, dW, db = linear_backward(dZ,linear_cache)\n",
        "    elif activation == \"sigmoid\":\n",
        "        dZ = sigmoid_backward(dA,activation_cache)\n",
        "        dA_prev, dW, db = linear_backward(dZ,linear_cache)\n",
        "    return dA_prev, dW, db"
      ],
      "execution_count": null,
      "outputs": []
    },
    {
      "cell_type": "code",
      "metadata": {
        "trusted": true,
        "id": "tsjjKlyuslqm"
      },
      "source": [
        "def initialize_parameters_deep(layer_dims):\n",
        "    np.random.seed(3)\n",
        "    parameters = {}\n",
        "    L = len(layer_dims)            # number of layers in the network\n",
        "    for l in range(1, L):\n",
        "        parameters['W' + str(l)] = np.random.randn(layer_dims[l],layer_dims[l-1])*0.01\n",
        "        parameters['b' + str(l)] = np.zeros((layer_dims[l],1))\n",
        "    return parameters\n",
        "\n",
        "def update_parameters(parameters, grads, learning_rate):\n",
        "    L = len(parameters) // 2\n",
        "    for l in range(L):\n",
        "        parameters[\"W\" + str(l+1)] = parameters[\"W\" + str(l+1)]-learning_rate*grads[\"dW\"+str(l+1)]\n",
        "        parameters[\"b\" + str(l+1)] =  parameters[\"b\" + str(l+1)]-learning_rate*grads[\"db\"+str(l+1)]\n",
        "    ### END CODE HERE ###\n",
        "    return parameters"
      ],
      "execution_count": null,
      "outputs": []
    },
    {
      "cell_type": "code",
      "metadata": {
        "trusted": true,
        "id": "nw9iYVVYslqn"
      },
      "source": [
        "def L_model_forward(X, parameters):\n",
        "    caches = []\n",
        "    A = X\n",
        "    L = len(parameters) // 2                  # number of layers in the neural network\n",
        "    for l in range(1, L):\n",
        "        A_prev = A \n",
        "        A, cache = linear_activation_forward(A_prev,parameters[\"W\"+str(l)],parameters[\"b\"+str(l)],\"relu\")\n",
        "        caches.append(cache)\n",
        "        None\n",
        "    AL, cache = linear_activation_forward(A,parameters[\"W\"+str(L)],parameters[\"b\"+str(L)],\"sigmoid\")\n",
        "    caches.append(cache)\n",
        "    return AL, caches\n",
        "\n",
        "# GRADED FUNCTION: L_model_backward\n",
        "\n",
        "def L_model_backward(AL, Y, caches):\n",
        "    grads = {}\n",
        "    L = len(caches)\n",
        "    m = AL.shape[1]\n",
        "    Y = Y.reshape(AL.shape)\n",
        "    dAL = -(np.divide(Y,AL)-np.divide(1-Y,1-AL))\n",
        "\n",
        "    current_cache = caches[L-1]\n",
        "    grads[\"dA\" + str(L-1)], grads[\"dW\" + str(L)], grads[\"db\" + str(L)] = linear_activation_backward(dAL,current_cache,\"sigmoid\")\n",
        "   \n",
        "    # Loop from l=L-2 to l=0\n",
        "    for l in reversed(range(L-1)):\n",
        "        current_cache = caches[l]\n",
        "        dA_prev_temp, dW_temp, db_temp = linear_activation_backward(grads[\"dA\"+str(l+1)],current_cache,\"relu\")\n",
        "        grads[\"dA\" + str(l)] = dA_prev_temp\n",
        "        grads[\"dW\" + str(l + 1)] = dW_temp\n",
        "        grads[\"db\" + str(l + 1)] = db_temp\n",
        "\n",
        "    return grads"
      ],
      "execution_count": null,
      "outputs": []
    },
    {
      "cell_type": "code",
      "metadata": {
        "trusted": true,
        "id": "91fpknQ1slqo"
      },
      "source": [
        "def compute_cost(AL, Y):\n",
        "    \n",
        "    m = Y.shape[1]\n",
        "    cost = (-1/m)*np.sum(Y*np.log(AL)+(1-Y)*np.log(1-AL))\n",
        "    cost = np.squeeze(cost)\n",
        "    \n",
        "    return cost"
      ],
      "execution_count": null,
      "outputs": []
    },
    {
      "cell_type": "code",
      "metadata": {
        "trusted": true,
        "id": "vjm0kHzBslqp",
        "outputId": "79975d68-02ee-4493-f8b8-1ddd81e98bfb"
      },
      "source": [
        "x_train.shape, x_test.shape,y_train.shape, y_test.shape"
      ],
      "execution_count": null,
      "outputs": [
        {
          "output_type": "execute_result",
          "data": {
            "text/plain": [
              "((12288, 313), (12288, 79), (1, 313), (1, 79))"
            ]
          },
          "metadata": {
            "tags": []
          },
          "execution_count": 301
        }
      ]
    },
    {
      "cell_type": "code",
      "metadata": {
        "trusted": true,
        "id": "UczibmBFslqp"
      },
      "source": [
        "# GRADED FUNCTION: L_layer_model\n",
        "\n",
        "def L_layer_model(X, Y, layers_dims, learning_rate = 0.0075, num_iterations = 2500, print_cost=True):\n",
        "    \n",
        "    costs = []                         # keep track of cost\n",
        "    \n",
        "    parameters = initialize_parameters_deep(layers_dims)\n",
        "    \n",
        "    for i in range(0, num_iterations):\n",
        "\n",
        "        AL, caches = L_model_forward(X,parameters)\n",
        "\n",
        "        cost = compute_cost(AL,Y)\n",
        "\n",
        "        grads = L_model_backward(AL,Y,caches)\n",
        "\n",
        "        parameters = update_parameters(parameters,grads,learning_rate)\n",
        "        \n",
        "        if print_cost and i % 100 == 0:\n",
        "            print (\"Cost after iteration %i: %f\" %(i, cost))\n",
        "        if print_cost and i % 100 == 0:\n",
        "            costs.append(cost)\n",
        "            \n",
        "    # plot the cost\n",
        "    plt.plot(np.squeeze(costs))\n",
        "    plt.ylabel('cost')\n",
        "    plt.xlabel('iterations (per hundreds)')\n",
        "    plt.title(\"Learning rate =\" + str(learning_rate))\n",
        "    plt.show()\n",
        "    \n",
        "    return parameters"
      ],
      "execution_count": null,
      "outputs": []
    },
    {
      "cell_type": "code",
      "metadata": {
        "trusted": true,
        "id": "YbfmRcglslqq",
        "outputId": "353801e3-d73f-4988-a682-c061d5e8d694"
      },
      "source": [
        "layers_dims = [12288, 20, 15, 7, 5, 1] #  4-layer model\n",
        "model=L_layer_model(x_train,y_train,layers_dims)"
      ],
      "execution_count": null,
      "outputs": [
        {
          "output_type": "stream",
          "text": [
            "Cost after iteration 0: 0.693147\n"
          ],
          "name": "stdout"
        }
      ]
    },
    {
      "cell_type": "code",
      "metadata": {
        "trusted": true,
        "id": "81x0026Vslqr",
        "outputId": "2b8bfc46-2286-473e-9a90-31d9a75d1fb5"
      },
      "source": [
        "print(model)"
      ],
      "execution_count": null,
      "outputs": [
        {
          "output_type": "stream",
          "text": [
            "{'W1': array([[ 0.01788628,  0.0043651 ,  0.00096497, ...,  0.00742033,\n",
            "         0.00777721, -0.02044101],\n",
            "       [-0.02034742, -0.01277108, -0.00845047, ..., -0.01592859,\n",
            "         0.01189758,  0.01369089],\n",
            "       [ 0.00736324,  0.01040033, -0.00610758, ..., -0.00719971,\n",
            "         0.01342522, -0.00194118],\n",
            "       ...,\n",
            "       [ 0.00152688,  0.01171849, -0.01256989, ..., -0.01793974,\n",
            "         0.00977006,  0.00740466],\n",
            "       [ 0.00301225,  0.01519223,  0.00774002, ..., -0.000818  ,\n",
            "        -0.00483844,  0.01257786],\n",
            "       [ 0.01000492,  0.0052482 , -0.00076459, ...,  0.00668238,\n",
            "         0.00346637, -0.0061899 ]]), 'b1': array([[ 0.00000000e+00],\n",
            "       [-1.62480444e-08],\n",
            "       [ 7.65075899e-09],\n",
            "       [ 1.62407125e-09],\n",
            "       [-3.84979802e-09],\n",
            "       [ 3.60901851e-09],\n",
            "       [ 7.82870448e-09],\n",
            "       [-5.86674897e-11],\n",
            "       [-1.35419800e-09],\n",
            "       [ 1.67659674e-09],\n",
            "       [-4.18583417e-09],\n",
            "       [ 1.51785078e-09],\n",
            "       [-4.66912535e-09],\n",
            "       [ 2.11961873e-09],\n",
            "       [ 2.49105359e-10],\n",
            "       [ 3.47518879e-08],\n",
            "       [-6.51486789e-09],\n",
            "       [-7.67525409e-09],\n",
            "       [ 2.81627988e-09],\n",
            "       [ 1.49544378e-08]]), 'W2': array([[-4.21271010e-03,  1.35977381e-03,  3.84181210e-03,\n",
            "         5.84098779e-04,  5.34048746e-03,  1.54523399e-03,\n",
            "        -1.25999621e-03, -1.17097233e-02,  1.28871172e-02,\n",
            "        -1.43873745e-02,  4.83398500e-03,  3.33350230e-02,\n",
            "         9.57045602e-03,  1.45575021e-02,  9.73636056e-03,\n",
            "         2.36599552e-03,  1.73165372e-02,  8.14853649e-04,\n",
            "         1.53212587e-02, -2.68614916e-02],\n",
            "       [ 1.39676313e-03,  3.15054282e-03,  1.52980602e-03,\n",
            "        -7.12874927e-03, -2.58449210e-03, -1.44394890e-02,\n",
            "         4.75801589e-03, -1.30964401e-03,  1.13131077e-02,\n",
            "         2.64683718e-03, -4.28779305e-03,  7.54523738e-03,\n",
            "         4.06169109e-03, -4.32058598e-03, -7.73255242e-03,\n",
            "         9.78066255e-03,  2.09730442e-02,  1.25752247e-02,\n",
            "         9.93457298e-03,  9.68809549e-03],\n",
            "       [ 7.64303430e-03, -1.17622468e-03,  6.41306764e-05,\n",
            "        -2.10949138e-03, -2.63931483e-03,  1.61538108e-02,\n",
            "         9.16159850e-03, -8.24745846e-03,  1.00150774e-02,\n",
            "        -9.07169474e-03, -3.00270233e-02,  1.30303488e-02,\n",
            "         1.97966387e-03,  6.54954421e-04,  7.20336637e-03,\n",
            "         6.99201035e-04,  1.63093903e-02,  1.72697447e-02,\n",
            "         1.92010649e-03,  4.12974121e-03],\n",
            "       [ 1.79980879e-02,  1.24571644e-02, -2.23819125e-03,\n",
            "        -7.68908655e-03,  1.81895835e-02, -2.55751550e-02,\n",
            "         1.51467681e-02, -4.43457966e-03, -1.62544888e-02,\n",
            "        -7.73642982e-03,  8.09187474e-03,  6.93405711e-03,\n",
            "         5.87457427e-03,  3.41985067e-03, -1.17682882e-02,\n",
            "        -1.72631304e-04, -8.13414863e-04,  6.33666639e-03,\n",
            "         1.21506515e-02,  9.30953596e-03],\n",
            "       [-5.84251386e-03, -1.19633030e-02,  7.76414529e-03,\n",
            "        -1.79914871e-02, -1.25855835e-03, -1.03541933e-02,\n",
            "         1.19563118e-03,  8.10552319e-03, -1.14217450e-02,\n",
            "         9.08445316e-03,  6.09097334e-03,  1.24110709e-02,\n",
            "         8.92197970e-04,  8.95381356e-03, -1.70719564e-02,\n",
            "        -2.27366953e-03,  3.78381522e-03, -8.34113267e-03,\n",
            "        -2.52331676e-02, -1.38136371e-02],\n",
            "       [-6.40806500e-03,  2.09409413e-03, -1.33252886e-02,\n",
            "        -1.73383589e-03, -3.62267682e-03,  1.10590288e-02,\n",
            "        -7.81663681e-03, -4.10351904e-03,  4.03956577e-03,\n",
            "         1.91319929e-02,  1.59316867e-02, -1.35669074e-02,\n",
            "         8.15886333e-03,  3.24261757e-03,  6.67156692e-03,\n",
            "         1.41038463e-02,  2.07324181e-02,  9.95188700e-03,\n",
            "         9.87812997e-03,  1.03548760e-02],\n",
            "       [-5.55294560e-03, -2.20633331e-02,  8.64211352e-03,\n",
            "        -3.83788482e-04, -8.50769942e-03,  3.22894366e-03,\n",
            "         7.32346668e-03,  1.82949229e-03, -5.07069334e-03,\n",
            "         3.94497232e-03,  1.34429310e-03,  1.50509449e-04,\n",
            "         2.23784792e-03, -4.07854754e-03, -1.86986711e-02,\n",
            "        -5.46046263e-03,  5.25799192e-03,  2.52829492e-03,\n",
            "        -1.10296171e-03, -3.49370371e-03],\n",
            "       [-3.15722093e-03, -3.30577544e-04,  1.53361762e-02,\n",
            "        -7.97514879e-03,  1.06707622e-02,  4.60915480e-03,\n",
            "         3.24594324e-04, -3.12879397e-03,  5.84842399e-03,\n",
            "         9.35621250e-03,  2.91391449e-03, -1.93887908e-03,\n",
            "         6.16900795e-03,  1.13575060e-02,  8.82555502e-03,\n",
            "         8.19198935e-03,  2.08453398e-02,  4.88694681e-03,\n",
            "         7.34221294e-03, -6.13535108e-03],\n",
            "       [ 2.31838031e-02, -4.08961582e-04,  1.62923824e-02,\n",
            "        -2.47396388e-02, -4.00610012e-03,  1.49818224e-03,\n",
            "         6.40409304e-03,  1.02456763e-03,  5.23192445e-03,\n",
            "         1.95699593e-03,  3.04137406e-03,  4.28414975e-03,\n",
            "        -7.73173321e-03, -5.79461794e-04, -4.58768994e-03,\n",
            "        -2.78116159e-03,  6.84248620e-04,  4.88936957e-03,\n",
            "         7.53635652e-03,  6.35735919e-03],\n",
            "       [-1.76261286e-02, -1.96196876e-03,  1.10622134e-02,\n",
            "        -3.90147077e-04, -6.78872287e-03,  6.68668036e-03,\n",
            "        -1.44448038e-02,  1.71159823e-02, -6.75806975e-03,\n",
            "        -5.57670811e-03, -9.27299612e-03,  2.97708192e-02,\n",
            "        -3.11965417e-04, -3.85058671e-03,  3.22974981e-03,\n",
            "         1.25116700e-02, -2.23698579e-02, -6.08459228e-03,\n",
            "        -4.55892230e-04, -1.24465207e-02],\n",
            "       [ 6.32143847e-03,  6.45077611e-03,  2.17786102e-03,\n",
            "         1.51475606e-02, -4.92043903e-03, -1.73158785e-03,\n",
            "        -1.38987821e-02,  7.49307871e-03, -9.74259253e-03,\n",
            "        -4.29380271e-03,  4.47291830e-03,  1.20241496e-02,\n",
            "         1.02992651e-02, -5.99743172e-03, -1.08374539e-02,\n",
            "        -1.57872040e-02,  1.08836834e-02,  9.44254876e-03,\n",
            "        -1.79459429e-03, -1.38761816e-02],\n",
            "       [-1.43355105e-02, -3.53004157e-03, -2.06917933e-03,\n",
            "        -2.02529957e-02,  1.48319502e-02,  1.87724156e-03,\n",
            "         1.25423266e-03, -5.97206737e-03, -3.03411591e-04,\n",
            "         8.32473209e-03,  7.60636045e-03, -8.56444739e-03,\n",
            "         8.25983942e-03,  1.83766121e-04,  1.43736805e-03,\n",
            "         2.66110176e-04,  1.45408853e-02,  1.81639107e-02,\n",
            "         8.68146729e-03, -1.91571609e-02],\n",
            "       [-2.15243679e-02, -4.06412142e-03, -8.31493303e-04,\n",
            "         7.23734830e-03,  1.13770348e-02,  7.70107794e-04,\n",
            "        -8.14203356e-03,  3.69481943e-03,  2.02449139e-03,\n",
            "        -5.18950952e-03,  6.78674479e-07, -5.35155482e-03,\n",
            "        -7.52558172e-04, -4.10752823e-03,  9.44459942e-04,\n",
            "        -9.57682457e-03, -3.72857426e-03,  9.68583307e-03,\n",
            "        -2.28149437e-02,  1.76115430e-02],\n",
            "       [-6.46053730e-04,  1.61523252e-02, -5.27619840e-03,\n",
            "         1.39761190e-02,  1.85873339e-04,  3.77831463e-03,\n",
            "         9.49980640e-03,  3.46389096e-03, -6.57747896e-04,\n",
            "         7.80235951e-03, -4.41297535e-03,  1.57027506e-03,\n",
            "         5.50547016e-03,  5.48036424e-03,  7.09052312e-04,\n",
            "         7.67143761e-03,  1.35578006e-03,  9.37973702e-04,\n",
            "         3.95823411e-03,  9.09475793e-03],\n",
            "       [ 1.09996937e-02, -3.97403784e-03, -4.76794715e-03,\n",
            "        -6.79587498e-03,  1.90313395e-02,  9.11657869e-03,\n",
            "         7.36874942e-03, -5.22063411e-03,  4.44860201e-03,\n",
            "         9.92858590e-03,  4.07621670e-03,  1.56966083e-02,\n",
            "        -5.74823547e-03,  1.13476528e-02,  2.25668480e-02,\n",
            "        -1.08321417e-03,  6.82141603e-03,  2.11745851e-03,\n",
            "         2.27619833e-02, -3.18649394e-03]]), 'b2': array([[-1.17578876e-07],\n",
            "       [-3.34822201e-08],\n",
            "       [-1.20207674e-07],\n",
            "       [-6.59418068e-08],\n",
            "       [-7.14780972e-08],\n",
            "       [-2.26669045e-07],\n",
            "       [ 4.38296076e-07],\n",
            "       [-5.26887312e-08],\n",
            "       [ 2.35724116e-07],\n",
            "       [-1.73283676e-08],\n",
            "       [ 2.54081597e-08],\n",
            "       [ 1.47667261e-08],\n",
            "       [-2.46441605e-07],\n",
            "       [ 8.01744131e-08],\n",
            "       [-2.55008617e-08]]), 'W3': array([[ 1.94927897e-03,  1.25587361e-02, -1.57312778e-03,\n",
            "        -1.35326708e-02, -7.33962138e-03,  1.15403767e-02,\n",
            "         1.29727967e-02, -9.71685772e-03,  1.68526426e-02,\n",
            "        -8.10869031e-03,  7.80694124e-03,  9.03777068e-03,\n",
            "         9.32544509e-04,  8.11755066e-04, -8.21662463e-03],\n",
            "       [-4.72907971e-03, -6.38358335e-03,  4.67645707e-03,\n",
            "         2.84701392e-03,  6.65505410e-03, -1.28571649e-02,\n",
            "         2.35531690e-02,  2.59033441e-03,  1.85010847e-03,\n",
            "         1.08142541e-03, -3.73280009e-03,  3.82000747e-03,\n",
            "        -1.26690022e-02,  1.04807521e-02,  2.12815720e-04],\n",
            "       [ 1.10710456e-02, -2.37108081e-03, -1.74275692e-02,\n",
            "         1.53790659e-03, -7.93750141e-05, -5.20859583e-03,\n",
            "         1.64929531e-02, -8.48514129e-03, -3.00227804e-03,\n",
            "         3.81488864e-03,  2.06201542e-03,  1.97636391e-03,\n",
            "         1.35673759e-02, -5.54685594e-03, -1.47416344e-02],\n",
            "       [-3.00210591e-03,  8.07940257e-04, -1.49934594e-03,\n",
            "        -9.24946643e-03,  7.06008887e-03,  6.52255617e-03,\n",
            "         2.92324401e-03,  5.87615162e-03, -5.56898661e-03,\n",
            "         1.46662681e-02, -2.64892232e-02, -8.50374457e-03,\n",
            "        -3.55794157e-03,  1.40234461e-02, -1.84965928e-03],\n",
            "       [ 1.59425717e-02,  9.20402132e-03, -5.33919186e-03,\n",
            "        -6.02557367e-03,  4.00457978e-03, -7.04886231e-03,\n",
            "         1.69128046e-02, -7.37203803e-03, -9.41214610e-03,\n",
            "        -3.46479745e-03, -8.38079685e-04, -2.79265204e-03,\n",
            "         4.15156328e-03, -3.09560864e-03, -5.42687052e-03],\n",
            "       [ 2.85557191e-03,  6.79872099e-03,  4.31683958e-03,\n",
            "         1.91409131e-02, -1.98262913e-03,  4.96779309e-03,\n",
            "         1.43171413e-03, -6.20499397e-03,  2.56087097e-03,\n",
            "         3.58898660e-03, -1.46810164e-02,  1.91724326e-03,\n",
            "         8.50801274e-03, -2.95795240e-03, -9.55485734e-03],\n",
            "       [-2.74790894e-03,  3.81807287e-04, -2.68740701e-03,\n",
            "        -7.86717841e-03,  1.32768743e-02,  8.59977068e-03,\n",
            "        -2.32222796e-03, -1.86623615e-03,  6.24866523e-03,\n",
            "        -2.35583332e-02, -7.12030255e-03, -5.43306514e-03,\n",
            "        -2.25671913e-02,  1.32366812e-02, -2.71367857e-03]]), 'b3': array([[ 4.65224829e-06],\n",
            "       [ 1.71058737e-05],\n",
            "       [ 0.00000000e+00],\n",
            "       [-7.23331399e-06],\n",
            "       [ 1.68571365e-06],\n",
            "       [-5.53582663e-07],\n",
            "       [ 1.60747406e-07]]), 'W4': array([[ 0.00472428,  0.02270863,  0.01281505, -0.00834003,  0.00796598,\n",
            "         0.00277036, -0.00157613],\n",
            "       [-0.00375985,  0.01245172,  0.01307577, -0.01717711, -0.01172176,\n",
            "         0.00337755,  0.00751838],\n",
            "       [ 0.00566195,  0.01512366,  0.00419794, -0.01346621,  0.00882663,\n",
            "         0.00063966,  0.00109811],\n",
            "       [-0.00327761,  0.00913744,  0.00475745,  0.01080887,  0.003604  ,\n",
            "         0.00560902, -0.00791969],\n",
            "       [-0.0165888 , -0.00990996, -0.01752058,  0.00306268, -0.01515156,\n",
            "        -0.00235144, -0.00630126]]), 'b4': array([[-1.90510349e-06],\n",
            "       [ 1.60618054e-06],\n",
            "       [ 8.21532397e-04],\n",
            "       [-4.60972886e-06],\n",
            "       [ 0.00000000e+00]]), 'W5': array([[ 0.00418113, -0.0038809 , -0.00600352,  0.0223502 ,  0.00837602]]), 'b5': array([[-0.13970945]])}\n"
          ],
          "name": "stdout"
        }
      ]
    },
    {
      "cell_type": "code",
      "metadata": {
        "trusted": true,
        "id": "7Dn4iv_Gslqr"
      },
      "source": [
        ""
      ],
      "execution_count": null,
      "outputs": []
    },
    {
      "cell_type": "code",
      "metadata": {
        "trusted": true,
        "id": "tW5zIKP4slqr"
      },
      "source": [
        ""
      ],
      "execution_count": null,
      "outputs": []
    },
    {
      "cell_type": "code",
      "metadata": {
        "trusted": true,
        "id": "9jPvNaOnslqr"
      },
      "source": [
        ""
      ],
      "execution_count": null,
      "outputs": []
    }
  ]
}